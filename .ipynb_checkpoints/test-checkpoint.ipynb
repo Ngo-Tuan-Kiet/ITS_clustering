{
    "cells": [
     {
      "cell_type": "markdown",
      "metadata": {},
      "source": [
       "# Clustering Chemical Reactions\n",
       "This notebook implements a clustering algorithm based on graph isomorphism to group chemical reactions."
      ]
     },
     {
      "cell_type": "markdown",
      "metadata": {},
      "source": [
       "## Glossary\n",
       "- **Reaction Center**: A graph representation of a chemical reaction.\n",
       "- **Reaction**: A dictionary containing a Reaction Center and its calculated graph invariants.\n",
       "- **Cluster / Isomerism class**: A set of reactions.\n",
       "- **Cluster Space**: A set of clusters."
      ]
     },
     {
      "cell_type": "code",
      "execution_count": null,
      "metadata": {},
      "outputs": [],
      "source": [
       "import time\n",
       "import networkx as nx\n",
       "import matplotlib.pyplot as plt\n",
       "from typing import List, Dict\n",
       "import pandas as pd\n",
       "\n",
       "from synutility.SynIO.data_type import load_from_pickle\n",
       "from synutility.SynVis.graph_visualizer import GraphVisualizer\n",
       "import networkx.algorithms.isomorphism as iso"
      ]
     },
     {
      "cell_type": "markdown",
      "metadata": {},
      "source": [
       "## Type Definitions"
      ]
     },
     {
      "cell_type": "code",
      "execution_count": null,
      "metadata": {},
      "outputs": [],
      "source": [
       "ReactionCenter = nx.Graph\n",
       "Reaction = Dict[str, any]\n",
       "Cluster = List[Reaction]\n",
       "ClusterSpace = List[Cluster]"
      ]
     },
     {
      "cell_type": "markdown",
      "metadata": {},
      "source": [
       "## Find Isomorphism Class"
      ]
     },
     {
      "cell_type": "code",
      "execution_count": null,
      "metadata": {},
      "outputs": [],
      "source": [
       "def find_isomorphism_class(reaction: Reaction, cluster_space: ClusterSpace) -> int:\n",
       "    \"\"\"\n",
       "    Attempts to find the isomorphism class of a reaction.\n",
       "    Returns the index of the cluster if found, otherwise None.\n",
       "    \"\"\"\n",
       "    for i, cluster in enumerate(cluster_space):\n",
       "        if nx.is_isomorphic(\n",
       "            cluster[0]['graph'], reaction['graph'],\n",
       "            node_match=iso.categorical_node_match([\"charge\", \"element\"], [1, 'H']),\n",
       "            edge_match=iso.categorical_edge_match(\"order\", (1.0, 1.0))\n",
       "        ):\n",
       "            return i\n",
       "        \n",
       "    return None"
      ]
     },
     {
      "cell_type": "markdown",
      "metadata": {},
      "source": [
       "## Naive Clustering"
      ]
     },
     {
      "cell_type": "code",
      "execution_count": null,
      "metadata": {},
      "outputs": [],
      "source": [
       "def naive_clustering(reactions: List[Reaction]) -> ClusterSpace:\n",
       "    \"\"\"\n",
       "    Groups reactions into isomorphism classes.\n",
       "    Returns the cluster space.\n",
       "    \"\"\"\n",
       "    cluster_space = []\n",
       "\n",
       "    for reaction in reactions:\n",
       "        index = find_isomorphism_class(reaction, cluster_space)\n",
       "        if index is not None:\n",
       "            # Add to existing partition\n",
       "            cluster_space[index].append(reaction)\n",
       "        else:\n",
       "            # Create a new partition\n",
       "            cluster_space.append([reaction])\n",
       "\n",
       "    return cluster_space"
      ]
     },
     {
      "cell_type": "markdown",
      "metadata": {},
      "source": [
       "## Pre-filtering Reactions"
      ]
     },
     {
      "cell_type": "code",
      "execution_count": null,
      "metadata": {},
      "outputs": [],
      "source": [
       "def get_graph_invariants(reaction: Reaction, relevant_invariants: List) -> Dict[str, any]:\n",
       "    \"\"\"\n",
       "    Calculates all relevant graph invariants for a reaction center.\n",
       "    Returns a dictionary of calculated invariants.\n",
       "    \"\"\"\n",
       "    invariants = {}\n",
       "    reaction_center = reaction['graph']\n",
       "    for inv in relevant_invariants:\n",
       "        match inv:\n",
       "            case 'vertex_count':\n",
       "                invariants[inv] = reaction_center.number_of_nodes()\n",
       "            case 'edge_count':\n",
       "                invariants[inv] = reaction_center.number_of_edges()\n",
       "            case 'degree_sequence':\n",
       "                invariants[inv] = sorted([d for n, d in reaction_center.degree()], reverse=True)\n",
       "            case 'lex_node_sequence':\n",
       "                invariants[inv] = sorted([reaction_center.nodes[n]['element'] \n",
       "                                          for n in reaction_center.nodes], reverse=True)\n",
       "            case 'algebraic_connectivity':\n",
       "                invariants[inv] = round(nx.linalg.algebraic_connectivity(reaction_center), 3)\n",
       "            case 'rank':\n",
       "                invariants[inv] = nx.linalg.graphmatrix.adjacency_matrix(reaction_center).todense().rank()\n",
       "            case 'wl1':\n",
       "                invariants[inv] = nx.algorithms.weisfeiler_lehman_graph_hash(reaction_center, iterations=1, node_attr='elecharge', edge_attr='order')\n",
       "            case 'wl2':\n",
       "                invariants[inv] = nx.algorithms.weisfeiler_lehman_graph_hash(reaction_center, iterations=2, node_attr='elecharge', edge_attr='order')\n",
       "            case 'wl3':\n",
       "                invariants[inv] = nx.algorithms.weisfeiler_lehman_graph_hash(reaction_center, iterations=3, node_attr='elecharge', edge_attr='order')\n",
       "\n",
       "    return invariants"
      ]
     },
     {
      "cell_type": "markdown",
      "metadata": {},
      "source": [
       "### More Functions and Visualizations"
      ]
     },
     {
      "cell_type": "code",
      "execution_count": null,
      "metadata": {},
      "outputs": [],
      "source": [
       "# Add the rest of the functions and main script here by following the same format.\n",
       "# Place code between cells, split logical sections, and ensure clarity for readers."
      ]
     }
    ],
    "metadata": {
     "kernelspec": {
      "display_name": "Python 3",
      "language": "python",
      "name": "python3"
     },
     "language_info": {
      "codemirror_mode": {
       "name": "ipython",
       "version": 3
      },
      "file_extension": ".py",
      "mimetype": "text/x-python",
      "name": "python",
      "nbconvert_exporter": "python",
      "pygments_lexer": "ipython3",
      "version": "3.8.5"
     }
    },
    "nbformat": 4,
    "nbformat_minor": 4
   }
   